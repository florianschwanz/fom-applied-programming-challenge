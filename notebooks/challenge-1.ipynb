{
 "cells": [
  {
   "cell_type": "code",
   "execution_count": 1,
   "outputs": [],
   "source": [
    "import pandas as pd"
   ],
   "metadata": {
    "collapsed": false,
    "pycharm": {
     "name": "#%%\n",
     "is_executing": false
    }
   }
  },
  {
   "cell_type": "markdown",
   "source": [
    "## 1 Load data"
   ],
   "metadata": {
    "collapsed": false
   }
  },
  {
   "cell_type": "code",
   "execution_count": 2,
   "outputs": [],
   "source": [
    "# Original columns\n",
    "col_instant='instant'\n",
    "col_datetime='datetime'\n",
    "col_season='season'\n",
    "col_year='year'\n",
    "col_month='month'\n",
    "col_hour='hour'\n",
    "col_holiday='holiday'\n",
    "col_weekday='weekday'\n",
    "col_workingday='workingday'\n",
    "col_weather_situation='weather_situation'\n",
    "col_temperature='temperature'\n",
    "col_apparent_temperature='apparent_temperature'\n",
    "col_humidity='humidity'\n",
    "col_windspeed='windspeed'\n",
    "\n",
    "# Target columns\n",
    "col_casual='casual'\n",
    "col_registered='registered'\n",
    "col_cnt='cnt'\n",
    "\n",
    "# Calculated columns\n",
    "col_temperature_raw='temperature_raw'\n",
    "\n",
    "# Define attribute names\n",
    "attribute_names_day = [col_instant, col_datetime, col_season, col_year, col_month, col_holiday, col_weekday, col_workingday, col_weather_situation,\n",
    "                       col_temperature, col_apparent_temperature, col_humidity, col_windspeed, col_casual, col_registered, col_cnt]\n",
    "attribute_names_hour = [col_instant, col_datetime, col_season, col_year, col_month, col_hour, col_holiday, col_weekday, col_workingday, col_weather_situation,\n",
    "                       col_temperature, col_apparent_temperature, col_humidity, col_windspeed, col_casual, col_registered, col_cnt]\n",
    "# Read csv files\n",
    "data_bike_day = pd.read_csv(\"../data/bike-sharing-dataset/day.csv\", skiprows=1, names=attribute_names_day)\n",
    "data_bike_hour = pd.read_csv(\"../data/bike-sharing-dataset/hour.csv\", skiprows=1, names=attribute_names_hour)"
   ],
   "metadata": {
    "collapsed": false,
    "pycharm": {
     "name": "#%%\n",
     "is_executing": false
    }
   }
  },
  {
   "cell_type": "markdown",
   "source": [
    "## 2 Understand data\n",
    "\n",
    "### 2.1 Show basic facts"
   ],
   "metadata": {
    "collapsed": false
   }
  },
  {
   "cell_type": "code",
   "execution_count": 3,
   "outputs": [
    {
     "name": "stdout",
     "text": [
      "<class 'pandas.core.frame.DataFrame'>\nRangeIndex: 731 entries, 0 to 730\nData columns (total 16 columns):\ninstant                 731 non-null int64\ndatetime                731 non-null object\nseason                  731 non-null int64\nyear                    731 non-null int64\nmonth                   731 non-null int64\nholiday                 731 non-null int64\nweekday                 731 non-null int64\nworkingday              731 non-null int64\nweather_situation       731 non-null int64\ntemperature             731 non-null float64\napparent_temperature    731 non-null float64\nhumidity                731 non-null float64\nwindspeed               731 non-null float64\ncasual                  731 non-null int64\nregistered              731 non-null int64\ncnt                     731 non-null int64\ndtypes: float64(4), int64(11), object(1)\nmemory usage: 91.5+ KB\n"
     ],
     "output_type": "stream"
    }
   ],
   "source": [
    "data_bike_day.info()"
   ],
   "metadata": {
    "collapsed": false,
    "pycharm": {
     "name": "#%%\n",
     "is_executing": false
    }
   }
  },
  {
   "cell_type": "code",
   "execution_count": 4,
   "outputs": [
    {
     "name": "stdout",
     "text": [
      "<class 'pandas.core.frame.DataFrame'>\nRangeIndex: 17379 entries, 0 to 17378\nData columns (total 17 columns):\ninstant                 17379 non-null int64\ndatetime                17379 non-null object\nseason                  17379 non-null int64\nyear                    17379 non-null int64\nmonth                   17379 non-null int64\nhour                    17379 non-null int64\nholiday                 17379 non-null int64\nweekday                 17379 non-null int64\nworkingday              17379 non-null int64\nweather_situation       17379 non-null int64\ntemperature             17379 non-null float64\napparent_temperature    17379 non-null float64\nhumidity                17379 non-null float64\nwindspeed               17379 non-null float64\ncasual                  17379 non-null int64\nregistered              17379 non-null int64\ncnt                     17379 non-null int64\ndtypes: float64(4), int64(12), object(1)\nmemory usage: 2.3+ MB\n"
     ],
     "output_type": "stream"
    }
   ],
   "source": [
    "data_bike_hour.info()"
   ],
   "metadata": {
    "collapsed": false,
    "pycharm": {
     "name": "#%%\n",
     "is_executing": false
    }
   }
  },
  {
   "cell_type": "markdown",
   "source": [
    "### 2.2 Visualize raw data"
   ],
   "metadata": {
    "collapsed": false
   }
  },
  {
   "cell_type": "code",
   "execution_count": null,
   "outputs": [],
   "source": [
    "# Extreme temperature values\n",
    "temperature_min=-8\n",
    "temperature_max=39\n",
    "# Extreme apparent temperature values\n",
    "apparent_temperature_min=-16\n",
    "apparent_temperature_max=50\n",
    "# Extreme humidity value\n",
    "humidity_max=100\n",
    "# Extreme wind speed value\n",
    "windspeed_max=67"
   ],
   "metadata": {
    "collapsed": false,
    "pycharm": {
     "name": "#%%\n"
    }
   }
  },
  {
   "cell_type": "code",
   "execution_count": null,
   "outputs": [],
   "source": [
    "# Restore raw values for day data frame\n",
    "data_bike_day = data_bike_day.assign(temperature_raw=data_bike_day[col_temperature] * (temperature_max-temperature_min) + temperature_min)\n",
    "data_bike_day = data_bike_day.assign(apparent_temperature_raw=data_bike_day[col_apparent_temperature] * (apparent_temperature_max-apparent_temperature_min) + apparent_temperature_min)\n",
    "data_bike_day = data_bike_day.assign(humidity_raw=data_bike_day[col_humidity] * humidity_max)\n",
    "data_bike_day = data_bike_day.assign(windspeed_raw=data_bike_day[col_windspeed] * windspeed_max)\n",
    "\n",
    "# Round values for better visualization\n",
    "data_bike_day = data_bike_day.assign(temperature_raw_rounded=round(data_bike_day[col_temperature_raw]/5,0)*5)\n",
    "\n",
    "# Restore raw values for hour data frame\n",
    "data_bike_hour = data_bike_hour.assign(temperature_raw=data_bike_hour[col_temperature] * (temperature_max-temperature_min) + temperature_min)\n",
    "data_bike_hour = data_bike_hour.assign(apparent_temperature_raw=data_bike_hour[col_apparent_temperature] * (apparent_temperature_max-apparent_temperature_min) + apparent_temperature_min)\n",
    "data_bike_hour = data_bike_hour.assign(humidity_raw=data_bike_hour[col_humidity] * humidity_max)\n",
    "data_bike_hour = data_bike_hour.assign(windspeed_raw=data_bike_hour[col_windspeed] * windspeed_max)"
   ],
   "metadata": {
    "collapsed": false,
    "pycharm": {
     "name": "#%%\n"
    }
   }
  }
 ],
 "metadata": {
  "kernelspec": {
   "display_name": "Python 3",
   "language": "python",
   "name": "python3"
  },
  "language_info": {
   "codemirror_mode": {
    "name": "ipython",
    "version": 3
   },
   "file_extension": ".py",
   "mimetype": "text/x-python",
   "name": "python",
   "nbconvert_exporter": "python",
   "pygments_lexer": "ipython3",
   "version": "3.7.3"
  },
  "pycharm": {
   "stem_cell": {
    "cell_type": "raw",
    "source": [],
    "metadata": {
     "collapsed": false
    }
   }
  }
 },
 "nbformat": 4,
 "nbformat_minor": 1
}