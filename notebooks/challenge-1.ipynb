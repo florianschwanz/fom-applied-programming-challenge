{
 "cells": [
  {
   "cell_type": "code",
   "execution_count": 4,
   "outputs": [],
   "source": [
    "import pandas as pd"
   ],
   "metadata": {
    "collapsed": false,
    "pycharm": {
     "name": "#%%\n",
     "is_executing": false
    }
   }
  },
  {
   "cell_type": "markdown",
   "source": [
    "## 1 Load data"
   ],
   "metadata": {
    "collapsed": false
   }
  },
  {
   "cell_type": "code",
   "execution_count": 5,
   "outputs": [],
   "source": [
    "# Original columns\n",
    "col_instant='instant'\n",
    "col_datetime='datetime'\n",
    "col_season='season'\n",
    "col_year='year'\n",
    "col_month='month'\n",
    "col_hour='hour'\n",
    "col_holiday='holiday'\n",
    "col_weekday='weekday'\n",
    "col_workingday='workingday'\n",
    "col_weather_situation='weather_situation'\n",
    "col_temperature='temperature'\n",
    "col_apparent_temperature='apparent_temperature'\n",
    "col_humidity='humidity'\n",
    "col_windspeed='windspeed'\n",
    "\n",
    "# Target columns\n",
    "col_casual='casual'\n",
    "col_registered='registered'\n",
    "col_cnt='cnt'\n",
    "\n",
    "# Define attribute names\n",
    "attribute_names_day = [col_instant, col_datetime, col_season, col_year, col_month, col_holiday, col_weekday, col_workingday, col_weather_situation,\n",
    "                       col_temperature, col_apparent_temperature, col_humidity, col_windspeed, col_casual, col_registered, col_cnt]\n",
    "attribute_names_hour = [col_instant, col_datetime, col_season, col_year, col_month, col_hour, col_holiday, col_weekday, col_workingday, col_weather_situation,\n",
    "                       col_temperature, col_apparent_temperature, col_humidity, col_windspeed, col_casual, col_registered, col_cnt]\n",
    "# Read csv files\n",
    "data_bike_day = pd.read_csv(\"../data/bike-sharing-dataset/day.csv\", skiprows=1, names=attribute_names_day)\n",
    "data_bike_hour = pd.read_csv(\"../data/bike-sharing-dataset/hour.csv\", skiprows=1, names=attribute_names_hour)"
   ],
   "metadata": {
    "collapsed": false,
    "pycharm": {
     "name": "#%%\n",
     "is_executing": false
    }
   }
  },
  {
   "cell_type": "markdown",
   "source": [
    "## 2 Understand data\n",
    "\n",
    "### 2.1 Show basic facts"
   ],
   "metadata": {
    "collapsed": false
   }
  },
  {
   "cell_type": "code",
   "execution_count": 6,
   "outputs": [
    {
     "name": "stdout",
     "text": [
      "<class 'pandas.core.frame.DataFrame'>\nRangeIndex: 731 entries, 0 to 730\nData columns (total 16 columns):\ninstant                 731 non-null int64\ndatetime                731 non-null object\nseason                  731 non-null int64\nyear                    731 non-null int64\nmonth                   731 non-null int64\nholiday                 731 non-null int64\nweekday                 731 non-null int64\nworkingday              731 non-null int64\nweather_situation       731 non-null int64\ntemperature             731 non-null float64\napparent_temperature    731 non-null float64\nhumidity                731 non-null float64\nwindspeed               731 non-null float64\ncasual                  731 non-null int64\nregistered              731 non-null int64\ncnt                     731 non-null int64\ndtypes: float64(4), int64(11), object(1)\nmemory usage: 91.5+ KB\n"
     ],
     "output_type": "stream"
    }
   ],
   "source": [
    "data_bike_day.info()"
   ],
   "metadata": {
    "collapsed": false,
    "pycharm": {
     "name": "#%%\n",
     "is_executing": false
    }
   }
  },
  {
   "cell_type": "code",
   "execution_count": 7,
   "outputs": [
    {
     "name": "stdout",
     "text": [
      "<class 'pandas.core.frame.DataFrame'>\nRangeIndex: 17379 entries, 0 to 17378\nData columns (total 17 columns):\ninstant                 17379 non-null int64\ndatetime                17379 non-null object\nseason                  17379 non-null int64\nyear                    17379 non-null int64\nmonth                   17379 non-null int64\nhour                    17379 non-null int64\nholiday                 17379 non-null int64\nweekday                 17379 non-null int64\nworkingday              17379 non-null int64\nweather_situation       17379 non-null int64\ntemperature             17379 non-null float64\napparent_temperature    17379 non-null float64\nhumidity                17379 non-null float64\nwindspeed               17379 non-null float64\ncasual                  17379 non-null int64\nregistered              17379 non-null int64\ncnt                     17379 non-null int64\ndtypes: float64(4), int64(12), object(1)\nmemory usage: 2.3+ MB\n"
     ],
     "output_type": "stream"
    }
   ],
   "source": [
    "data_bike_hour.info()"
   ],
   "metadata": {
    "collapsed": false,
    "pycharm": {
     "name": "#%%\n",
     "is_executing": false
    }
   }
  }
 ],
 "metadata": {
  "kernelspec": {
   "display_name": "Python 3",
   "language": "python",
   "name": "python3"
  },
  "language_info": {
   "codemirror_mode": {
    "name": "ipython",
    "version": 3
   },
   "file_extension": ".py",
   "mimetype": "text/x-python",
   "name": "python",
   "nbconvert_exporter": "python",
   "pygments_lexer": "ipython3",
   "version": "3.7.3"
  },
  "pycharm": {
   "stem_cell": {
    "cell_type": "raw",
    "source": [],
    "metadata": {
     "collapsed": false
    }
   }
  }
 },
 "nbformat": 4,
 "nbformat_minor": 1
}