{
 "cells": [
  {
   "cell_type": "markdown",
   "metadata": {
    "pycharm": {
     "name": "#%% md\n"
    }
   },
   "source": [
    "# Applied Programming Coding Challenge #1\n",
    "\n",
    "![title](../img/photo-1533788179956-82e8a027c962.jpg)\n",
    "\n",
    "## 0 General Information\n",
    "\n",
    "### 0.1 Data Set and Features\n",
    "\n",
    "The project [Bike Sharing Dataset](https://www.kaggle.com/lakshmi25npathi/bike-sharing-dataset) contains two data sets\n",
    "* day.csv\n",
    "* hour.csv\n",
    "\n",
    "Both shall be used to predict demand of bikes using regression.\n",
    "  \n",
    "There are 16 (17 respectively) features in each of the two data sets\n",
    "* ```instant``` Unique ID of a record\n",
    "* Features describing time\n",
    "  * ```dteday``` Date, e.g. 01.01.2011\n",
    "  * ```season``` Numerically encoded season, e.g. 1 (=spring)\n",
    "  * ```yr``` Year after start (Jan 1 2011), e.g. 0\n",
    "  * ```mnth``` Month of the year, e.g. 1 (=January)\n",
    "  * ```hour``` Hour of the day\n",
    "  * ```holiday``` Indicator whether the day is a public holiday, e.g. 0 (=no)\n",
    "  * ```weekday``` Numerically encoded weekday of the date, e.g. 0 (=Sunday)\n",
    "  * ```workingday```  Indicator whether the day is a working day, e.g. 0 (=no)\n",
    "* Features describing weather\n",
    "  * ```weathersit``` Numerically encoded weather situation, e.g.\n",
    "    * 1: Clear, Few clouds, Partly cloudy, Partly cloudy\n",
    "    * 2: Mist + Cloudy, Mist + Broken clouds, Mist + Few clouds, Mist\n",
    "    * 3: Light Snow, Light Rain + Thunderstorm + Scattered clouds, Light Rain + Scattered clouds\n",
    "    * 4: Heavy Rain + Ice Pallets + Thunderstorm + Mist, Snow + Fog\n",
    "  * ```temp``` Normalized temperature in Celsius\n",
    "  * ```atemp``` Normalized _feeling_ temperature in Celsius\n",
    "  * ```hum``` Normalized humidity\n",
    "  * ```windspeed``` Normalized wind speed\n",
    "* Features describing rented bikes\n",
    "  * ```casual``` Number of casual users\n",
    "  * ```registered``` Number of registered users\n",
    "  * ```cnt``` Combined number of casual and registered users\n",
    "\n",
    "Some features are already normalized\n",
    "* ```temp```\n",
    "* ```atemp```\n",
    "* ```hum```\n",
    "* ```windspeed```\n",
    "\n",
    "### 0.2 Python classes being used\n",
    "\n",
    "In the course of this notebook different setups will be trained, evaluated and compared with each other.\n",
    "Therefore the following classes will be used\n",
    "\n",
    "* ```DataSet``` representing the two data sets _day_ and _hour_\n",
    "* ```Variant``` representing different variants two be compared (see chapter _Hypotheses_)\n",
    "* ```DataSplit``` storing x_train, x_test, y_train, y_test of a train/test data split"
   ]
  },
  {
   "cell_type": "code",
   "execution_count": 1,
   "metadata": {
    "pycharm": {
     "is_executing": false,
     "name": "#%%\n"
    }
   },
   "outputs": [],
   "source": [
    "%matplotlib inline"
   ]
  },
  {
   "cell_type": "code",
   "execution_count": 2,
   "metadata": {
    "pycharm": {
     "is_executing": false,
     "name": "#%%\n"
    }
   },
   "outputs": [],
   "source": [
    "import time\n",
    "\n",
    "import matplotlib.pyplot as plt\n",
    "import numpy as np\n",
    "import pandas as pd\n",
    "import seaborn as sns\n",
    "from sklearn.ensemble import RandomForestRegressor\n",
    "from sklearn.linear_model import ElasticNet\n",
    "from sklearn.linear_model import Lasso\n",
    "from sklearn.linear_model import LinearRegression\n",
    "from sklearn.linear_model import Ridge\n",
    "from sklearn.metrics import explained_variance_score\n",
    "from sklearn.metrics import max_error\n",
    "from sklearn.metrics import mean_absolute_error\n",
    "from sklearn.metrics import mean_squared_error\n",
    "from sklearn.metrics import median_absolute_error\n",
    "from sklearn.metrics import r2_score\n",
    "from sklearn.model_selection import KFold\n",
    "from sklearn.svm import SVR\n",
    "from sklearn.tree import DecisionTreeRegressor "
   ]
  },
  {
   "cell_type": "code",
   "execution_count": 3,
   "metadata": {
    "pycharm": {
     "is_executing": false,
     "name": "#%%\n"
    }
   },
   "outputs": [],
   "source": [
    "import warnings\n",
    "from sklearn.exceptions import DataConversionWarning\n",
    "from sklearn.exceptions import ConvergenceWarning\n",
    "warnings.filterwarnings(action='ignore', category=DataConversionWarning)\n",
    "warnings.filterwarnings(action='ignore', category=ConvergenceWarning)"
   ]
  },
  {
   "cell_type": "markdown",
   "metadata": {},
   "source": [
    "## 1 Load data\n",
    "\n",
    "```TIP FOR DEVS``` Put column names into variables in order to benefit from code completion"
   ]
  },
  {
   "cell_type": "code",
   "execution_count": 4,
   "metadata": {
    "pycharm": {
     "is_executing": false,
     "name": "#%%\n"
    }
   },
   "outputs": [],
   "source": [
    "# Original columns\n",
    "col_instant='instant'\n",
    "col_datetime='datetime'\n",
    "col_season='season'\n",
    "col_year='year'\n",
    "col_month='month'\n",
    "col_hour='hour'\n",
    "col_holiday='holiday'\n",
    "col_weekday='weekday'\n",
    "col_workingday='workingday'\n",
    "col_weather_situation='weather_situation'\n",
    "col_temperature='temperature'\n",
    "col_apparent_temperature='apparent_temperature'\n",
    "col_humidity='humidity'\n",
    "col_windspeed='windspeed'\n",
    "\n",
    "# Historic columns\n",
    "col_weather_situation_hist='weather_situation_hist'\n",
    "col_temperature_hist='temperature_hist'\n",
    "col_apparent_temperature_hist='apparent_temperature_hist'\n",
    "col_humidity_hist='humidity_hist'\n",
    "col_windspeed_hist='windspeed_hist'\n",
    "\n",
    "# Target columns\n",
    "col_casual='casual'\n",
    "col_registered='registered'\n",
    "col_count='count'\n",
    "\n",
    "# Calculated columns\n",
    "col_days_since_start='days_since_start'\n",
    "\n",
    "# Raw column\n",
    "col_temperature_raw='temperature_raw'\n",
    "col_apparent_temperature_raw='apparent_temperature_raw'\n",
    "col_humidity_raw='humidity_raw'\n",
    "col_windspeed_raw='windspeed_raw'\n",
    "col_temperature_raw_rounded='temperature_raw_rounded'\n",
    "col_days_since_start_raw='days_since_start_raw'"
   ]
  },
  {
   "cell_type": "code",
   "execution_count": 5,
   "metadata": {
    "pycharm": {
     "is_executing": false,
     "name": "#%%\n"
    }
   },
   "outputs": [],
   "source": [
    "# Data sets\n",
    "data_set_day = \"day\"\n",
    "data_set_hour = \"hour\"\n",
    "\n",
    "class DataSet:\n",
    "    \"\"\"Contains data, model and predictions of a data set\"\"\"\n",
    "    file_name = \"\"\n",
    "    attribute_names = []\n",
    "    columns_categorical = []\n",
    "    data_frame = {}\n",
    "    variants = {}\n",
    "    \n",
    "    def __init__(self, file_name):\n",
    "        self.file_name = file_name\n",
    "\n",
    "# Define data sets\n",
    "data_sets = {\n",
    "    data_set_day: DataSet(\"../data/bike-sharing-dataset/day.csv\"),\n",
    "    data_set_hour: DataSet(\"../data/bike-sharing-dataset/hour.csv\")\n",
    "}"
   ]
  },
  {
   "cell_type": "code",
   "execution_count": 6,
   "metadata": {
    "pycharm": {
     "is_executing": false,
     "name": "#%%\n"
    }
   },
   "outputs": [],
   "source": [
    "# Define attribute names\n",
    "data_sets[data_set_day].attribute_names = [col_instant, col_datetime, col_season, col_year, col_month, col_holiday, \n",
    "                                           col_weekday, col_workingday, col_weather_situation, col_temperature, \n",
    "                                           col_apparent_temperature, col_humidity, col_windspeed, col_casual, \n",
    "                                           col_registered, col_count]\n",
    "data_sets[data_set_hour].attribute_names = [col_instant, col_datetime, col_season, col_year, col_month, col_hour, \n",
    "                                            col_holiday, col_weekday, col_workingday, col_weather_situation, \n",
    "                                            col_temperature, col_apparent_temperature, col_humidity, col_windspeed, col_casual, col_registered, col_count]"
   ]
  },
  {
   "cell_type": "code",
   "execution_count": 7,
   "metadata": {
    "pycharm": {
     "is_executing": false,
     "name": "#%%\n"
    }
   },
   "outputs": [],
   "source": [
    "# Iterate over data sets\n",
    "for data_set_name, data_set in data_sets.items():\n",
    "    \n",
    "    # Read csv file\n",
    "    data_set.data_frame = pd.read_csv(data_set.file_name, skiprows=1, names=data_set.attribute_names)"
   ]
  },
  {
   "cell_type": "markdown",
   "metadata": {},
   "source": [
    "## 2 Understand data\n",
    "\n",
    "### 2.1 Show basic facts\n",
    "\n",
    "* Show data types of features\n",
    "* Make sure there are no null values"
   ]
  },
  {
   "cell_type": "code",
   "execution_count": 8,
   "metadata": {
    "pycharm": {
     "is_executing": false,
     "name": "#%%\n"
    }
   },
   "outputs": [
    {
     "name": "stdout",
     "output_type": "stream",
     "text": [
      "<class 'pandas.core.frame.DataFrame'>\n",
      "RangeIndex: 731 entries, 0 to 730\n",
      "Data columns (total 16 columns):\n",
      "instant                 731 non-null int64\n",
      "datetime                731 non-null object\n",
      "season                  731 non-null int64\n",
      "year                    731 non-null int64\n",
      "month                   731 non-null int64\n",
      "holiday                 731 non-null int64\n",
      "weekday                 731 non-null int64\n",
      "workingday              731 non-null int64\n",
      "weather_situation       731 non-null int64\n",
      "temperature             731 non-null float64\n",
      "apparent_temperature    731 non-null float64\n",
      "humidity                731 non-null float64\n",
      "windspeed               731 non-null float64\n",
      "casual                  731 non-null int64\n",
      "registered              731 non-null int64\n",
      "count                   731 non-null int64\n",
      "dtypes: float64(4), int64(11), object(1)\n",
      "memory usage: 91.5+ KB\n",
      "\n",
      "<class 'pandas.core.frame.DataFrame'>\n",
      "RangeIndex: 17379 entries, 0 to 17378\n",
      "Data columns (total 17 columns):\n",
      "instant                 17379 non-null int64\n",
      "datetime                17379 non-null object\n",
      "season                  17379 non-null int64\n",
      "year                    17379 non-null int64\n",
      "month                   17379 non-null int64\n",
      "hour                    17379 non-null int64\n",
      "holiday                 17379 non-null int64\n",
      "weekday                 17379 non-null int64\n",
      "workingday              17379 non-null int64\n",
      "weather_situation       17379 non-null int64\n",
      "temperature             17379 non-null float64\n",
      "apparent_temperature    17379 non-null float64\n",
      "humidity                17379 non-null float64\n",
      "windspeed               17379 non-null float64\n",
      "casual                  17379 non-null int64\n",
      "registered              17379 non-null int64\n",
      "count                   17379 non-null int64\n",
      "dtypes: float64(4), int64(12), object(1)\n",
      "memory usage: 2.3+ MB\n",
      "\n"
     ]
    }
   ],
   "source": [
    "# Iterate over data sets\n",
    "for data_set_name, data_set in data_sets.items():\n",
    "    \n",
    "    data_set.data_frame.info()\n",
    "    data_set.data_frame.isnull().sum()\n",
    "    print(\"\")"
   ]
  },
  {
   "cell_type": "markdown",
   "metadata": {},
   "source": [
    "### 2.2 Set data types\n",
    "\n",
    "Data types are assigned to features in order to make it easier to use them e.g. for calculations in further steps.\n",
    "This includes\n",
    "* date time data\n",
    "* categorical data"
   ]
  },
  {
   "cell_type": "code",
   "execution_count": 9,
   "metadata": {
    "pycharm": {
     "is_executing": false,
     "name": "#%%\n"
    }
   },
   "outputs": [],
   "source": [
    "# Define categorical attributes\n",
    "data_sets[data_set_day].columns_categorical = [col_season, col_year, col_month, col_holiday, col_weekday, \n",
    "                                               col_workingday, col_weather_situation]\n",
    "data_sets[data_set_hour].columns_categorical = [col_season, col_year, col_month, col_hour, col_holiday, col_weekday, \n",
    "                                                col_workingday, col_weather_situation]"
   ]
  },
  {
   "cell_type": "code",
   "execution_count": 10,
   "metadata": {
    "pycharm": {
     "is_executing": false,
     "name": "#%%\n"
    }
   },
   "outputs": [],
   "source": [
    "# Iterate over data sets\n",
    "for data_set_name, data_set in data_sets.items():\n",
    "\n",
    "    # Convert columns to date time\n",
    "    data_set.data_frame[col_datetime] = pd.to_datetime(data_set.data_frame[col_datetime])\n",
    "\n",
    "    # Convert columns to category\n",
    "    for column in data_set.columns_categorical:\n",
    "        data_set.data_frame[column]=data_set.data_frame[column].astype('category')"
   ]
  },
  {
   "cell_type": "markdown",
   "metadata": {},
   "source": [
    "### 2.3 Restore raw data\n",
    "\n",
    "* Some features in the data sets are already normalized\n",
    "* For better visualization they need to be de-normalized first (using extreme values from data set's readme file)"
   ]
  },
  {
   "cell_type": "code",
   "execution_count": 11,
   "metadata": {
    "pycharm": {
     "is_executing": false,
     "name": "#%%\n"
    }
   },
   "outputs": [],
   "source": [
    "# Extreme temperature values\n",
    "temperature_min=-8\n",
    "temperature_max=39\n",
    "# Extreme apparent temperature values\n",
    "apparent_temperature_min=-16\n",
    "apparent_temperature_max=50\n",
    "# Extreme humidity value\n",
    "humidity_max=100\n",
    "# Extreme wind speed value\n",
    "windspeed_max=67"
   ]
  },
  {
   "cell_type": "code",
   "execution_count": 12,
   "metadata": {
    "pycharm": {
     "is_executing": false,
     "name": "#%%\n"
    }
   },
   "outputs": [],
   "source": [
    "# Define columns containing raw-values\n",
    "columns_raw_values = [col_temperature_raw, col_apparent_temperature_raw, col_humidity_raw, col_windspeed_raw, \n",
    "                      col_temperature_raw_rounded]"
   ]
  },
  {
   "cell_type": "code",
   "execution_count": 13,
   "metadata": {
    "pycharm": {
     "is_executing": false,
     "name": "#%%\n"
    }
   },
   "outputs": [],
   "source": [
    "# Iterate over data sets\n",
    "for data_set_name, data_set in data_sets.items():\n",
    "\n",
    "    # Restore raw values for day data frame\n",
    "    data_set.data_frame = data_set.data_frame.assign(temperature_raw=data_set.data_frame[col_temperature] * (temperature_max-temperature_min) + temperature_min)\n",
    "    data_set.data_frame = data_set.data_frame.assign(apparent_temperature_raw=data_set.data_frame[col_apparent_temperature] * (apparent_temperature_max-apparent_temperature_min) + apparent_temperature_min)\n",
    "    data_set.data_frame = data_set.data_frame.assign(humidity_raw=data_set.data_frame[col_humidity] * humidity_max)\n",
    "    data_set.data_frame = data_set.data_frame.assign(windspeed_raw=data_set.data_frame[col_windspeed] * windspeed_max)\n",
    "    \n",
    "    # Round values for better visualization\n",
    "    data_set.data_frame = data_set.data_frame.assign(temperature_raw_rounded=round(data_set.data_frame[col_temperature_raw]/5,0)*5)"
   ]
  },
  {
   "cell_type": "markdown",
   "metadata": {},
   "source": [
    "#### 2.4 Show data\n",
    "\n",
    "```WARNING``` DataFrame.head() does not work inside loops"
   ]
  },
  {
   "cell_type": "code",
   "execution_count": 14,
   "metadata": {
    "pycharm": {
     "is_executing": false,
     "name": "#%%\n"
    }
   },
   "outputs": [],
   "source": [
    "# Iterate over data sets\n",
    "for data_set_name, data_set in data_sets.items():\n",
    "\n",
    "    # Show first few lines\n",
    "    data_set.data_frame.head()"
   ]
  },
  {
   "cell_type": "code",
   "execution_count": 15,
   "metadata": {
    "pycharm": {
     "is_executing": false,
     "name": "#%%\n"
    }
   },
   "outputs": [
    {
     "data": {
      "text/html": [
       "<div>\n",
       "<style scoped>\n",
       "    .dataframe tbody tr th:only-of-type {\n",
       "        vertical-align: middle;\n",
       "    }\n",
       "\n",
       "    .dataframe tbody tr th {\n",
       "        vertical-align: top;\n",
       "    }\n",
       "\n",
       "    .dataframe thead th {\n",
       "        text-align: right;\n",
       "    }\n",
       "</style>\n",
       "<table border=\"1\" class=\"dataframe\">\n",
       "  <thead>\n",
       "    <tr style=\"text-align: right;\">\n",
       "      <th></th>\n",
       "      <th>instant</th>\n",
       "      <th>datetime</th>\n",
       "      <th>season</th>\n",
       "      <th>year</th>\n",
       "      <th>month</th>\n",
       "      <th>holiday</th>\n",
       "      <th>weekday</th>\n",
       "      <th>workingday</th>\n",
       "      <th>weather_situation</th>\n",
       "      <th>temperature</th>\n",
       "      <th>...</th>\n",
       "      <th>humidity</th>\n",
       "      <th>windspeed</th>\n",
       "      <th>casual</th>\n",
       "      <th>registered</th>\n",
       "      <th>count</th>\n",
       "      <th>temperature_raw</th>\n",
       "      <th>apparent_temperature_raw</th>\n",
       "      <th>humidity_raw</th>\n",
       "      <th>windspeed_raw</th>\n",
       "      <th>temperature_raw_rounded</th>\n",
       "    </tr>\n",
       "  </thead>\n",
       "  <tbody>\n",
       "    <tr>\n",
       "      <th>0</th>\n",
       "      <td>1</td>\n",
       "      <td>2011-01-01</td>\n",
       "      <td>1</td>\n",
       "      <td>0</td>\n",
       "      <td>1</td>\n",
       "      <td>0</td>\n",
       "      <td>6</td>\n",
       "      <td>0</td>\n",
       "      <td>2</td>\n",
       "      <td>0.344167</td>\n",
       "      <td>...</td>\n",
       "      <td>0.805833</td>\n",
       "      <td>0.160446</td>\n",
       "      <td>331</td>\n",
       "      <td>654</td>\n",
       "      <td>985</td>\n",
       "      <td>8.175849</td>\n",
       "      <td>7.999250</td>\n",
       "      <td>80.5833</td>\n",
       "      <td>10.749882</td>\n",
       "      <td>10.0</td>\n",
       "    </tr>\n",
       "    <tr>\n",
       "      <th>1</th>\n",
       "      <td>2</td>\n",
       "      <td>2011-01-02</td>\n",
       "      <td>1</td>\n",
       "      <td>0</td>\n",
       "      <td>1</td>\n",
       "      <td>0</td>\n",
       "      <td>0</td>\n",
       "      <td>0</td>\n",
       "      <td>2</td>\n",
       "      <td>0.363478</td>\n",
       "      <td>...</td>\n",
       "      <td>0.696087</td>\n",
       "      <td>0.248539</td>\n",
       "      <td>131</td>\n",
       "      <td>670</td>\n",
       "      <td>801</td>\n",
       "      <td>9.083466</td>\n",
       "      <td>7.346774</td>\n",
       "      <td>69.6087</td>\n",
       "      <td>16.652113</td>\n",
       "      <td>10.0</td>\n",
       "    </tr>\n",
       "    <tr>\n",
       "      <th>2</th>\n",
       "      <td>3</td>\n",
       "      <td>2011-01-03</td>\n",
       "      <td>1</td>\n",
       "      <td>0</td>\n",
       "      <td>1</td>\n",
       "      <td>0</td>\n",
       "      <td>1</td>\n",
       "      <td>1</td>\n",
       "      <td>1</td>\n",
       "      <td>0.196364</td>\n",
       "      <td>...</td>\n",
       "      <td>0.437273</td>\n",
       "      <td>0.248309</td>\n",
       "      <td>120</td>\n",
       "      <td>1229</td>\n",
       "      <td>1349</td>\n",
       "      <td>1.229108</td>\n",
       "      <td>-3.499270</td>\n",
       "      <td>43.7273</td>\n",
       "      <td>16.636703</td>\n",
       "      <td>0.0</td>\n",
       "    </tr>\n",
       "    <tr>\n",
       "      <th>3</th>\n",
       "      <td>4</td>\n",
       "      <td>2011-01-04</td>\n",
       "      <td>1</td>\n",
       "      <td>0</td>\n",
       "      <td>1</td>\n",
       "      <td>0</td>\n",
       "      <td>2</td>\n",
       "      <td>1</td>\n",
       "      <td>1</td>\n",
       "      <td>0.200000</td>\n",
       "      <td>...</td>\n",
       "      <td>0.590435</td>\n",
       "      <td>0.160296</td>\n",
       "      <td>108</td>\n",
       "      <td>1454</td>\n",
       "      <td>1562</td>\n",
       "      <td>1.400000</td>\n",
       "      <td>-1.999948</td>\n",
       "      <td>59.0435</td>\n",
       "      <td>10.739832</td>\n",
       "      <td>0.0</td>\n",
       "    </tr>\n",
       "    <tr>\n",
       "      <th>4</th>\n",
       "      <td>5</td>\n",
       "      <td>2011-01-05</td>\n",
       "      <td>1</td>\n",
       "      <td>0</td>\n",
       "      <td>1</td>\n",
       "      <td>0</td>\n",
       "      <td>3</td>\n",
       "      <td>1</td>\n",
       "      <td>1</td>\n",
       "      <td>0.226957</td>\n",
       "      <td>...</td>\n",
       "      <td>0.436957</td>\n",
       "      <td>0.186900</td>\n",
       "      <td>82</td>\n",
       "      <td>1518</td>\n",
       "      <td>1600</td>\n",
       "      <td>2.666979</td>\n",
       "      <td>-0.868180</td>\n",
       "      <td>43.6957</td>\n",
       "      <td>12.522300</td>\n",
       "      <td>5.0</td>\n",
       "    </tr>\n",
       "  </tbody>\n",
       "</table>\n",
       "<p>5 rows × 21 columns</p>\n",
       "</div>"
      ],
      "text/plain": [
       "   instant   datetime season year month holiday weekday workingday  \\\n",
       "0        1 2011-01-01      1    0     1       0       6          0   \n",
       "1        2 2011-01-02      1    0     1       0       0          0   \n",
       "2        3 2011-01-03      1    0     1       0       1          1   \n",
       "3        4 2011-01-04      1    0     1       0       2          1   \n",
       "4        5 2011-01-05      1    0     1       0       3          1   \n",
       "\n",
       "  weather_situation  temperature  ...  humidity  windspeed  casual  \\\n",
       "0                 2     0.344167  ...  0.805833   0.160446     331   \n",
       "1                 2     0.363478  ...  0.696087   0.248539     131   \n",
       "2                 1     0.196364  ...  0.437273   0.248309     120   \n",
       "3                 1     0.200000  ...  0.590435   0.160296     108   \n",
       "4                 1     0.226957  ...  0.436957   0.186900      82   \n",
       "\n",
       "   registered  count  temperature_raw  apparent_temperature_raw  humidity_raw  \\\n",
       "0         654    985         8.175849                  7.999250       80.5833   \n",
       "1         670    801         9.083466                  7.346774       69.6087   \n",
       "2        1229   1349         1.229108                 -3.499270       43.7273   \n",
       "3        1454   1562         1.400000                 -1.999948       59.0435   \n",
       "4        1518   1600         2.666979                 -0.868180       43.6957   \n",
       "\n",
       "   windspeed_raw  temperature_raw_rounded  \n",
       "0      10.749882                     10.0  \n",
       "1      16.652113                     10.0  \n",
       "2      16.636703                      0.0  \n",
       "3      10.739832                      0.0  \n",
       "4      12.522300                      5.0  \n",
       "\n",
       "[5 rows x 21 columns]"
      ]
     },
     "execution_count": 15,
     "metadata": {},
     "output_type": "execute_result"
    }
   ],
   "source": [
    "data_sets[data_set_day].data_frame.head()"
   ]
  },
  {
   "cell_type": "code",
   "execution_count": 16,
   "metadata": {
    "pycharm": {
     "is_executing": false,
     "name": "#%%\n"
    }
   },
   "outputs": [
    {
     "data": {
      "text/html": [
       "<div>\n",
       "<style scoped>\n",
       "    .dataframe tbody tr th:only-of-type {\n",
       "        vertical-align: middle;\n",
       "    }\n",
       "\n",
       "    .dataframe tbody tr th {\n",
       "        vertical-align: top;\n",
       "    }\n",
       "\n",
       "    .dataframe thead th {\n",
       "        text-align: right;\n",
       "    }\n",
       "</style>\n",
       "<table border=\"1\" class=\"dataframe\">\n",
       "  <thead>\n",
       "    <tr style=\"text-align: right;\">\n",
       "      <th></th>\n",
       "      <th>instant</th>\n",
       "      <th>datetime</th>\n",
       "      <th>season</th>\n",
       "      <th>year</th>\n",
       "      <th>month</th>\n",
       "      <th>hour</th>\n",
       "      <th>holiday</th>\n",
       "      <th>weekday</th>\n",
       "      <th>workingday</th>\n",
       "      <th>weather_situation</th>\n",
       "      <th>...</th>\n",
       "      <th>humidity</th>\n",
       "      <th>windspeed</th>\n",
       "      <th>casual</th>\n",
       "      <th>registered</th>\n",
       "      <th>count</th>\n",
       "      <th>temperature_raw</th>\n",
       "      <th>apparent_temperature_raw</th>\n",
       "      <th>humidity_raw</th>\n",
       "      <th>windspeed_raw</th>\n",
       "      <th>temperature_raw_rounded</th>\n",
       "    </tr>\n",
       "  </thead>\n",
       "  <tbody>\n",
       "    <tr>\n",
       "      <th>0</th>\n",
       "      <td>1</td>\n",
       "      <td>2011-01-01</td>\n",
       "      <td>1</td>\n",
       "      <td>0</td>\n",
       "      <td>1</td>\n",
       "      <td>0</td>\n",
       "      <td>0</td>\n",
       "      <td>6</td>\n",
       "      <td>0</td>\n",
       "      <td>1</td>\n",
       "      <td>...</td>\n",
       "      <td>0.81</td>\n",
       "      <td>0.0</td>\n",
       "      <td>3</td>\n",
       "      <td>13</td>\n",
       "      <td>16</td>\n",
       "      <td>3.28</td>\n",
       "      <td>3.0014</td>\n",
       "      <td>81.0</td>\n",
       "      <td>0.0</td>\n",
       "      <td>5.0</td>\n",
       "    </tr>\n",
       "    <tr>\n",
       "      <th>1</th>\n",
       "      <td>2</td>\n",
       "      <td>2011-01-01</td>\n",
       "      <td>1</td>\n",
       "      <td>0</td>\n",
       "      <td>1</td>\n",
       "      <td>1</td>\n",
       "      <td>0</td>\n",
       "      <td>6</td>\n",
       "      <td>0</td>\n",
       "      <td>1</td>\n",
       "      <td>...</td>\n",
       "      <td>0.80</td>\n",
       "      <td>0.0</td>\n",
       "      <td>8</td>\n",
       "      <td>32</td>\n",
       "      <td>40</td>\n",
       "      <td>2.34</td>\n",
       "      <td>1.9982</td>\n",
       "      <td>80.0</td>\n",
       "      <td>0.0</td>\n",
       "      <td>0.0</td>\n",
       "    </tr>\n",
       "    <tr>\n",
       "      <th>2</th>\n",
       "      <td>3</td>\n",
       "      <td>2011-01-01</td>\n",
       "      <td>1</td>\n",
       "      <td>0</td>\n",
       "      <td>1</td>\n",
       "      <td>2</td>\n",
       "      <td>0</td>\n",
       "      <td>6</td>\n",
       "      <td>0</td>\n",
       "      <td>1</td>\n",
       "      <td>...</td>\n",
       "      <td>0.80</td>\n",
       "      <td>0.0</td>\n",
       "      <td>5</td>\n",
       "      <td>27</td>\n",
       "      <td>32</td>\n",
       "      <td>2.34</td>\n",
       "      <td>1.9982</td>\n",
       "      <td>80.0</td>\n",
       "      <td>0.0</td>\n",
       "      <td>0.0</td>\n",
       "    </tr>\n",
       "    <tr>\n",
       "      <th>3</th>\n",
       "      <td>4</td>\n",
       "      <td>2011-01-01</td>\n",
       "      <td>1</td>\n",
       "      <td>0</td>\n",
       "      <td>1</td>\n",
       "      <td>3</td>\n",
       "      <td>0</td>\n",
       "      <td>6</td>\n",
       "      <td>0</td>\n",
       "      <td>1</td>\n",
       "      <td>...</td>\n",
       "      <td>0.75</td>\n",
       "      <td>0.0</td>\n",
       "      <td>3</td>\n",
       "      <td>10</td>\n",
       "      <td>13</td>\n",
       "      <td>3.28</td>\n",
       "      <td>3.0014</td>\n",
       "      <td>75.0</td>\n",
       "      <td>0.0</td>\n",
       "      <td>5.0</td>\n",
       "    </tr>\n",
       "    <tr>\n",
       "      <th>4</th>\n",
       "      <td>5</td>\n",
       "      <td>2011-01-01</td>\n",
       "      <td>1</td>\n",
       "      <td>0</td>\n",
       "      <td>1</td>\n",
       "      <td>4</td>\n",
       "      <td>0</td>\n",
       "      <td>6</td>\n",
       "      <td>0</td>\n",
       "      <td>1</td>\n",
       "      <td>...</td>\n",
       "      <td>0.75</td>\n",
       "      <td>0.0</td>\n",
       "      <td>0</td>\n",
       "      <td>1</td>\n",
       "      <td>1</td>\n",
       "      <td>3.28</td>\n",
       "      <td>3.0014</td>\n",
       "      <td>75.0</td>\n",
       "      <td>0.0</td>\n",
       "      <td>5.0</td>\n",
       "    </tr>\n",
       "  </tbody>\n",
       "</table>\n",
       "<p>5 rows × 22 columns</p>\n",
       "</div>"
      ],
      "text/plain": [
       "   instant   datetime season year month hour holiday weekday workingday  \\\n",
       "0        1 2011-01-01      1    0     1    0       0       6          0   \n",
       "1        2 2011-01-01      1    0     1    1       0       6          0   \n",
       "2        3 2011-01-01      1    0     1    2       0       6          0   \n",
       "3        4 2011-01-01      1    0     1    3       0       6          0   \n",
       "4        5 2011-01-01      1    0     1    4       0       6          0   \n",
       "\n",
       "  weather_situation  ...  humidity  windspeed  casual  registered  count  \\\n",
       "0                 1  ...      0.81        0.0       3          13     16   \n",
       "1                 1  ...      0.80        0.0       8          32     40   \n",
       "2                 1  ...      0.80        0.0       5          27     32   \n",
       "3                 1  ...      0.75        0.0       3          10     13   \n",
       "4                 1  ...      0.75        0.0       0           1      1   \n",
       "\n",
       "   temperature_raw  apparent_temperature_raw  humidity_raw  windspeed_raw  \\\n",
       "0             3.28                    3.0014          81.0            0.0   \n",
       "1             2.34                    1.9982          80.0            0.0   \n",
       "2             2.34                    1.9982          80.0            0.0   \n",
       "3             3.28                    3.0014          75.0            0.0   \n",
       "4             3.28                    3.0014          75.0            0.0   \n",
       "\n",
       "   temperature_raw_rounded  \n",
       "0                      5.0  \n",
       "1                      0.0  \n",
       "2                      0.0  \n",
       "3                      5.0  \n",
       "4                      5.0  \n",
       "\n",
       "[5 rows x 22 columns]"
      ]
     },
     "execution_count": 16,
     "metadata": {},
     "output_type": "execute_result"
    }
   ],
   "source": [
    "data_sets[data_set_hour].data_frame.head()"
   ]
  },
  {
   "cell_type": "markdown",
   "metadata": {},
   "source": [
    "#### 2.5 Plot relation between month and number of rented bikes\n",
    "\n",
    "* Make sure data is plausible\n",
    "* Expected plot contains few peaks (most popular biking months)"
   ]
  },
  {
   "cell_type": "code",
   "execution_count": 17,
   "metadata": {
    "pycharm": {
     "is_executing": false,
     "name": "#%%\n"
    }
   },
   "outputs": [
    {
     "data": {
      "text/plain": [
       "<seaborn.axisgrid.FacetGrid at 0x2835f9cbda0>"
      ]
     },
     "execution_count": 17,
     "metadata": {},
     "output_type": "execute_result"
    },
    {
     "data": {
      "image/png": "[encoded data removed]",
      "text/plain": [
       "<Figure size 402.375x360 with 1 Axes>"
      ]
     },
     "metadata": {
      "needs_background": "light"
     },
     "output_type": "display_data"
    }
   ],
   "source": [
    "# Plot trend\n",
    "sns.catplot(col_month,col_count,hue=col_year,data=data_sets[data_set_day].data_frame, ci=None, kind='point', palette='rainbow')"
   ]
  },
  {
   "cell_type": "markdown",
   "metadata": {},
   "source": [
    "#### 2.6 Plot relation between temperature and number of rented bikes\n",
    "\n",
    "* Make sure data is plausible\n",
    "* Expected plot contains one peak (optimal biking temperature)"
   ]
  },
  {
   "cell_type": "code",
   "execution_count": 18,
   "metadata": {
    "pycharm": {
     "is_executing": false,
     "name": "#%%\n"
    }
   },
   "outputs": [
    {
     "data": {
      "text/plain": [
       "<seaborn.axisgrid.FacetGrid at 0x2835fefa2e8>"
      ]
     },
     "execution_count": 18,
     "metadata": {},
     "output_type": "execute_result"
    },
    {
     "data": {
      "image/png": "[encoded data removed]",
      "text/plain": [
       "<Figure size 402.375x360 with 1 Axes>"
      ]
     },
     "metadata": {
      "needs_background": "light"
     },
     "output_type": "display_data"
    }
   ],
   "source": [
    "# Plot trend\n",
    "sns.catplot(col_temperature_raw_rounded,col_count,hue=col_year,data=data_sets[data_set_day].data_frame, ci=None, kind='point', palette='rainbow')"
   ]
  },
  {
   "cell_type": "markdown",
   "metadata": {},
   "source": [
    "#### 2.7 Plot relation between weather situation and number of rented bikes\n",
    "\n",
    "* Make sure data is plausible\n",
    "* Expected plot indicates that there are significantly more rentals on day having good weather (clear or misty) \n",
    "  * 1: Clear, Few clouds, Partly cloudy, Partly cloudy\n",
    "  * 2: Mist + Cloudy, Mist + Broken clouds, Mist + Few clouds, Mist\n",
    "  * 3: Light Snow, Light Rain + Thunderstorm + Scattered clouds, Light Rain + Scattered clouds\n",
    "  * 4: Heavy Rain + Ice Pallets + Thunderstorm + Mist, Snow + Fog"
   ]
  },
  {
   "cell_type": "code",
   "execution_count": 19,
   "metadata": {
    "pycharm": {
     "is_executing": false,
     "name": "#%%\n"
    }
   },
   "outputs": [
    {
     "data": {
      "text/plain": [
       "<seaborn.axisgrid.FacetGrid at 0x2835ff43748>"
      ]
     },
     "execution_count": 19,
     "metadata": {},
     "output_type": "execute_result"
    },
    {
     "data": {
      "image/png": "[encoded data removed]",
      "text/plain": [
       "<Figure size 402.375x360 with 1 Axes>"
      ]
     },
     "metadata": {
      "needs_background": "light"
     },
     "output_type": "display_data"
    }
   ],
   "source": [
    "# Plot trend\n",
    "sns.catplot(col_weather_situation,col_count,hue=col_year,data=data_sets[data_set_day].data_frame, ci=None, kind='strip', palette='rainbow')"
   ]
  },
  {
   "cell_type": "markdown",
   "metadata": {},
   "source": [
    "#### 2.8 Plot relation between weather situation and number of rented bikes\n",
    "\n",
    "* Make sure data is plausible\n",
    "* Expected plot indicates that more bikes are rented during day time\n",
    "  * Probably there are two peeks when people go to work / go back home"
   ]
  },
  {
   "cell_type": "code",
   "execution_count": 20,
   "metadata": {
    "pycharm": {
     "is_executing": false,
     "name": "#%%\n"
    }
   },
   "outputs": [
    {
     "data": {
      "text/plain": [
       "<seaborn.axisgrid.FacetGrid at 0x28360017ef0>"
      ]
     },
     "execution_count": 20,
     "metadata": {},
     "output_type": "execute_result"
    },
    {
     "data": {
      "image/png": "[encoded data removed]",
      "text/plain": [
       "<Figure size 402.375x360 with 1 Axes>"
      ]
     },
     "metadata": {
      "needs_background": "light"
     },
     "output_type": "display_data"
    }
   ],
   "source": [
    "# Plot trend\n",
    "sns.catplot(col_hour,col_count,hue=col_year,data=data_sets[data_set_hour].data_frame, ci=None, kind='point', palette='rainbow')"
   ]
  },
  {
   "cell_type": "markdown",
   "metadata": {},
   "source": [
    "#### 2.9 Plot correlation matrix of some attributes\n",
    "\n",
    "* Expected matrix contains the following correlations\n",
    "  * strong correlation between _temperature_ and _apparent temperature_"
   ]
  },
  {
   "cell_type": "code",
   "execution_count": 21,
   "metadata": {
    "pycharm": {
     "is_executing": false,
     "name": "#%%\n"
    }
   },
   "outputs": [
    {
     "data": {
      "image/png": "[encoded data removed]",
      "text/plain": [
       "<Figure size 1080x576 with 2 Axes>"
      ]
     },
     "metadata": {
      "needs_background": "light"
     },
     "output_type": "display_data"
    },
    {
     "data": {
      "image/png": "[encoded data removed]",
      "text/plain": [
       "<Figure size 1080x576 with 2 Axes>"
      ]
     },
     "metadata": {
      "needs_background": "light"
     },
     "output_type": "display_data"
    }
   ],
   "source": [
    "# Iterate over data sets\n",
    "for data_set_name, data_set in data_sets.items():\n",
    "    \n",
    "    # Plot correlation matrix\n",
    "    correlationMatrix=data_set.data_frame[[col_temperature, col_apparent_temperature, col_humidity,col_windspeed,\n",
    "                                           col_casual, col_registered]].corr()\n",
    "    mask=np.array(correlationMatrix)\n",
    "    mask[np.tril_indices_from(mask)]=False\n",
    "    \n",
    "    fig,ax=plt.subplots(figsize=(15,8))\n",
    "    sns.heatmap(correlationMatrix,mask=mask,vmax=0.8,square=True,annot=True,ax=ax)\n",
    "    ax.set_title('Correlation Matrix')\n",
    "    plt.show()"
   ]
  },
  {
   "cell_type": "markdown",
   "metadata": {
    "pycharm": {
     "name": "#%% md\n"
    }
   },
   "source": [
    "## 3 Hypotheses\n",
    "\n",
    "Based on the basic understanding of the data sets two hypotheses shall be made\n",
    "\n",
    "In the course of this notebook the data sets will be extended by additional information\n",
    "* days since start of the bike sharing campaign\n",
    "* weather conditions of previous period\n",
    "\n",
    "### 3.1 Hypothesis A\n",
    "\n",
    "There is a significant difference in the number of rented bikes in the two years being contained in the data set. \n",
    "Therefore it can be assumed that the raising popularity correlates with the number of rented bikes.\n",
    "In order to include this assumption a synthentic feature ```days since start``` shall be used.\n",
    "\n",
    "*Hypthesis* Taking into account the number of days since the bike sharing campaign has started will increase the \n",
    "performance of the model.\n",
    "\n",
    "### 3.2 Hypothesis B\n",
    "\n",
    "Different aspects of the weather affect how many bikes are rented. In most cases there may be time between _deciding to \n",
    "use a shared bike_ and _actually using a shared bike_. Therefore also the weather conditions of the time period \n",
    "_before_ a bike is rented may be relevant. In order to achieve this some sythethic features such as \n",
    "```weather_situation_hist```, ```temperature_hist```, ```apparent_temperature_hist```, ```humidity_hist```, \n",
    "```windspeed_hist``` shall be included.\n",
    "\n",
    "*Hypthesis* Taking into account the weather conditions of the previous period will increase the \n",
    "performance of the model.\n",
    "\n",
    "### 3.3 Hypothesis C\n",
    "\n",
    "Features temperature and apparent temperature strongly correlate with each other. It is to be assumed that dropping one \n",
    "of the two does not reduce model performance.\n",
    "\n",
    "*Hypthesis* Dropping _apparent temperature_ does not decrease performance of the model."
   ]
  },
  {
   "cell_type": "markdown",
   "metadata": {},
   "source": [
    "## 4 Preprocess data"
   ]
  },
  {
   "cell_type": "markdown",
   "metadata": {},
   "source": [
    "### 4.1 Initialize variants\n",
    "\n",
    "Three variants will be trained and evaluated\n",
    "* ```original``` original data frame\n",
    "* ```market``` original data frame + days since start\n",
    "* ```history``` original data frame + history weather conditions\n",
    "* ```reduced``` original data frame + manual dimensionality reduction"
   ]
  },
  {
   "cell_type": "code",
   "execution_count": 22,
   "metadata": {
    "pycharm": {
     "is_executing": false,
     "name": "#%%\n"
    }
   },
   "outputs": [],
   "source": [
    "# Variants\n",
    "variant_original = \"original\"\n",
    "variant_market = \"market\"\n",
    "variant_history = \"history\"\n",
    "variant_reduced = \"reduced\"\n",
    "\n",
    "class Variant:\n",
    "    \"\"\"Contains data, model and predictions of a variant\"\"\"\n",
    "    color = \"#000\"\n",
    "    data_frame = {}\n",
    "    folds = {}\n",
    "    models = {}\n",
    "    \n",
    "    def __init__(self, color):\n",
    "        self.color = color"
   ]
  },
  {
   "cell_type": "code",
   "execution_count": 23,
   "metadata": {
    "pycharm": {
     "is_executing": false,
     "name": "#%%\n"
    }
   },
   "outputs": [],
   "source": [
    "# Iterate over data sets\n",
    "for data_set_name, data_set in data_sets.items():\n",
    "    \n",
    "    # Assign variants to data frames\n",
    "    data_set.variants = {\n",
    "        variant_original: Variant(color=\"#d4dd80\"),\n",
    "        variant_market: Variant(color=\"#3fe0e0\"),\n",
    "        variant_history: Variant(color=\"#3fb5e0\"),\n",
    "        variant_reduced: Variant(color=\"red\"),\n",
    "    }"
   ]
  },
  {
   "cell_type": "markdown",
   "metadata": {
    "pycharm": {
     "name": "#%% md\n"
    }
   },
   "source": [
    "### 4.2 One-hot-encode categorical data"
   ]
  },
  {
   "cell_type": "code",
   "execution_count": 24,
   "metadata": {
    "pycharm": {
     "is_executing": false,
     "name": "#%%\n"
    }
   },
   "outputs": [],
   "source": [
    "# Iterate over data sets\n",
    "for data_set_name, data_set in data_sets.items():\n",
    "\n",
    "    # One-hot encode columns \n",
    "    for column in data_set.columns_categorical:\n",
    "        data_set.data_frame = pd.concat([data_set.data_frame,pd.get_dummies(data_set.data_frame[column], prefix=column)],axis=1)"
   ]
  },
  {
   "cell_type": "markdown",
   "metadata": {},
   "source": [
    "### 4.3 Enhance data\n",
    "\n",
    "* The following variants shall be compared\n",
    "  * _original_ original features\n",
    "  * _market_ original features + time since start of bike sharing campaign"
   ]
  },
  {
   "cell_type": "code",
   "execution_count": 25,
   "metadata": {
    "pycharm": {
     "is_executing": false,
     "name": "#%%\n"
    }
   },
   "outputs": [],
   "source": [
    "# Iterate over data sets\n",
    "for data_set_name, data_set in data_sets.items():\n",
    "\n",
    "    # Iterate over variants\n",
    "    for variant_name, variant in data_set.variants.items():\n",
    "        \n",
    "        # Copy original data frame\n",
    "        variant.data_frame = data_set.data_frame.copy()"
   ]
  },
  {
   "cell_type": "markdown",
   "metadata": {
    "pycharm": {
     "name": "#%% md\n"
    }
   },
   "source": [
    "#### 4.3.1 Variant _market_"
   ]
  },
  {
   "cell_type": "code",
   "execution_count": 26,
   "metadata": {
    "pycharm": {
     "is_executing": false,
     "name": "#%%\n"
    }
   },
   "outputs": [],
   "source": [
    "# Iterate over data sets\n",
    "for data_set_name, data_set in data_sets.items():\n",
    "\n",
    "    # Calculate days since start\n",
    "    start_date = data_set.variants[variant_market].data_frame[col_datetime].min()\n",
    "    data_set.variants[variant_market].data_frame[col_days_since_start_raw] = \\\n",
    "        data_set.variants[variant_market].data_frame.apply(lambda row: (row[col_datetime] - start_date).days, axis = 1) \n",
    "    \n",
    "    # Normalize days since start\n",
    "    max_days_since_start = data_set.variants[variant_market].data_frame[col_days_since_start_raw].max()\n",
    "    data_set.variants[variant_market].data_frame[col_days_since_start] = \\\n",
    "        data_set.variants[variant_market].data_frame.apply(lambda row: (row[col_days_since_start_raw] / max_days_since_start), axis = 1)\n",
    "    \n",
    "    # Drop raw days since start\n",
    "    data_set.variants[variant_market].data_frame.drop(col_days_since_start_raw, axis=1, inplace=True)"
   ]
  },
  {
   "cell_type": "code",
   "execution_count": 27,
   "metadata": {
    "pycharm": {
     "is_executing": false,
     "name": "#%%\n"
    }
   },
   "outputs": [
    {
     "data": {
      "image/png": "[encoded data removed]",
      "text/plain": [
       "<Figure size 1080x576 with 2 Axes>"
      ]
     },
     "metadata": {
      "needs_background": "light"
     },
     "output_type": "display_data"
    },
    {
     "data": {
      "image/png": "[encoded data removed]",
      "text/plain": [
       "<Figure size 1080x576 with 2 Axes>"
      ]
     },
     "metadata": {
      "needs_background": "light"
     },
     "output_type": "display_data"
    }
   ],
   "source": [
    "# Iterate over data sets\n",
    "for data_set_name, data_set in data_sets.items():\n",
    "    \n",
    "    # Plot correlation matrix\n",
    "    correlationMatrix=data_set.variants[variant_market].data_frame[[col_temperature, col_apparent_temperature, \n",
    "                                                                    col_humidity, col_windspeed, col_days_since_start, \n",
    "                                                                    col_count]].corr()\n",
    "    mask=np.array(correlationMatrix)\n",
    "    mask[np.tril_indices_from(mask)]=False\n",
    "    \n",
    "    fig,ax=plt.subplots(figsize=(15,8))\n",
    "    sns.heatmap(correlationMatrix,mask=mask,vmax=0.8,square=True,annot=True,ax=ax)\n",
    "    ax.set_title('Correlation Matrix')\n",
    "    plt.show()"
   ]
  },
  {
   "cell_type": "markdown",
   "metadata": {},
   "source": [
    "#### 4.3.2 Variant _history_"
   ]
  },
  {
   "cell_type": "code",
   "execution_count": 28,
   "metadata": {
    "pycharm": {
     "is_executing": false,
     "name": "#%%\n"
    }
   },
   "outputs": [],
   "source": [
    "# Iterate over data sets\n",
    "for data_set_name, data_set in data_sets.items():\n",
    "    \n",
    "    # Copy columns into hist columns\n",
    "    data_set.variants[variant_history].data_frame[col_weather_situation_hist] = data_set.variants[variant_history].data_frame[col_weather_situation]\n",
    "    data_set.variants[variant_history].data_frame[col_temperature_hist] = data_set.variants[variant_history].data_frame[col_temperature]\n",
    "    data_set.variants[variant_history].data_frame[col_apparent_temperature_hist] = data_set.variants[variant_history].data_frame[col_apparent_temperature]\n",
    "    data_set.variants[variant_history].data_frame[col_humidity_hist] = data_set.variants[variant_history].data_frame[col_humidity]\n",
    "    data_set.variants[variant_history].data_frame[col_windspeed_hist] = data_set.variants[variant_history].data_frame[col_windspeed]\n",
    "    \n",
    "    # Shift hist columns by 1\n",
    "    data_set.variants[variant_history].data_frame[col_weather_situation_hist].shift(1)\n",
    "    data_set.variants[variant_history].data_frame[col_temperature_hist].shift(1)\n",
    "    data_set.variants[variant_history].data_frame[col_apparent_temperature_hist].shift(1)\n",
    "    data_set.variants[variant_history].data_frame[col_humidity_hist].shift(1)\n",
    "    data_set.variants[variant_history].data_frame[col_windspeed_hist].shift(1)\n",
    "    \n",
    "    # One-hot encode columns \n",
    "    data_set.variants[variant_history].data_frame = pd.concat([data_set.variants[variant_history].data_frame,\n",
    "                                                               pd.get_dummies(data_set.variants[variant_history].data_frame[col_weather_situation_hist], \n",
    "                                                                              prefix=col_weather_situation_hist)],axis=1)\n",
    "    # Drop one-hot encoded columns\n",
    "    data_set.variants[variant_history].data_frame.drop([col_weather_situation_hist], axis=1, inplace=True)"
   ]
  },
  {
   "cell_type": "markdown",
   "metadata": {},
   "source": [
    "#### 4.3.3 Variant _reduced_"
   ]
  },
  {
   "cell_type": "code",
   "execution_count": 29,
   "metadata": {
    "pycharm": {
     "is_executing": false,
     "name": "#%%\n"
    }
   },
   "outputs": [],
   "source": [
    "# Iterate over data sets\n",
    "for data_set_name, data_set in data_sets.items():\n",
    "\n",
    "    # data_set.variants[variant_reduced].data_frame.drop(list(data_set.variants[variant_reduced].data_frame.filter(regex=col_season + \"_\")), axis=1, inplace=True)\n",
    "    data_set.variants[variant_reduced].data_frame.drop(list(data_set.variants[variant_reduced].data_frame.filter(regex=\"^\" + col_apparent_temperature + \"$\")), axis=1, inplace=True)\n",
    "    # data_set.variants[variant_reduced].data_frame.drop(list(data_set.variants[variant_reduced].data_frame.filter(regex=col_weekday + \"_\")), axis=1, inplace=True)\n",
    "    # data_set.variants[variant_reduced].data_frame.drop(list(data_set.variants[variant_reduced].data_frame.filter(regex=col_month + \"_\")), axis=1, inplace=True)\n",
    "    \n",
    "# data_sets[data_set_day].variants[variant_reduced].data_frame.head()"
   ]
  },
  {
   "cell_type": "markdown",
   "metadata": {},
   "source": [
    "### 4.4 Normalize data\n",
    "\n",
    "Nothing to be done here since features are already normalized."
   ]
  },
  {
   "cell_type": "markdown",
   "metadata": {},
   "source": [
    "### 4.5 Drop columns\n",
    "\n",
    "* The following columns need to be dropped\n",
    "  * Indices\n",
    "    * _instant_ since it does not contain any information besides the order\n",
    "  * Columns which cannot be used directly\n",
    "    * _datetime_ which is formatted ```yyyy-mm-dd```\n",
    "  * Columns which are one-hot encoded\n",
    "  * Columns which contain raw values\n",
    "  * Unused target columns"
   ]
  },
  {
   "cell_type": "code",
   "execution_count": 30,
   "metadata": {
    "pycharm": {
     "is_executing": false,
     "name": "#%%\n"
    }
   },
   "outputs": [],
   "source": [
    "# Iterate over data sets\n",
    "for data_set_name, data_set in data_sets.items():\n",
    "    \n",
    "    # Iterate over variants\n",
    "    for variant_name, variant in data_set.variants.items():\n",
    "        \n",
    "        # Drop index and unusable columns\n",
    "        variant.data_frame.drop([col_instant, col_datetime], axis=1, inplace=True)\n",
    "        # Drop one-hot encoded columns\n",
    "        variant.data_frame.drop(data_set.columns_categorical, axis=1, inplace=True)\n",
    "        # Drop raw-value columns\n",
    "        variant.data_frame.drop(columns_raw_values, axis=1, inplace=True)\n",
    "        # Drop unused target columns    \n",
    "        variant.data_frame.drop([col_casual, col_registered], axis=1, inplace=True)"
   ]
  },
  {
   "cell_type": "markdown",
   "metadata": {},
   "source": [
    "## 5 Split data into _training_ and _test_"
   ]
  },
  {
   "cell_type": "code",
   "execution_count": 31,
   "metadata": {
    "pycharm": {
     "is_executing": false,
     "name": "#%%\n"
    }
   },
   "outputs": [],
   "source": [
    "class DataSplit:\n",
    "    \"\"\"Contains results of a train/test data split\"\"\"\n",
    "    def __init__(self, x_train, x_test, y_train, y_test):\n",
    "        self.x_train = x_train\n",
    "        self.x_test = x_test\n",
    "        self.y_train = y_train\n",
    "        self.y_test = y_test"
   ]
  },
  {
   "cell_type": "code",
   "execution_count": 32,
   "metadata": {
    "pycharm": {
     "is_executing": false,
     "name": "#%%\n"
    }
   },
   "outputs": [
    {
     "data": {
      "text/html": [
       "<div>\n",
       "<style scoped>\n",
       "    .dataframe tbody tr th:only-of-type {\n",
       "        vertical-align: middle;\n",
       "    }\n",
       "\n",
       "    .dataframe tbody tr th {\n",
       "        vertical-align: top;\n",
       "    }\n",
       "\n",
       "    .dataframe thead th {\n",
       "        text-align: right;\n",
       "    }\n",
       "</style>\n",
       "<table border=\"1\" class=\"dataframe\">\n",
       "  <thead>\n",
       "    <tr style=\"text-align: right;\">\n",
       "      <th></th>\n",
       "      <th>temperature</th>\n",
       "      <th>apparent_temperature</th>\n",
       "      <th>humidity</th>\n",
       "      <th>windspeed</th>\n",
       "      <th>count</th>\n",
       "      <th>season_1</th>\n",
       "      <th>season_2</th>\n",
       "      <th>season_3</th>\n",
       "      <th>season_4</th>\n",
       "      <th>year_0</th>\n",
       "      <th>...</th>\n",
       "      <th>weekday_2</th>\n",
       "      <th>weekday_3</th>\n",
       "      <th>weekday_4</th>\n",
       "      <th>weekday_5</th>\n",
       "      <th>weekday_6</th>\n",
       "      <th>workingday_0</th>\n",
       "      <th>workingday_1</th>\n",
       "      <th>weather_situation_1</th>\n",
       "      <th>weather_situation_2</th>\n",
       "      <th>weather_situation_3</th>\n",
       "    </tr>\n",
       "  </thead>\n",
       "  <tbody>\n",
       "    <tr>\n",
       "      <th>0</th>\n",
       "      <td>0.344167</td>\n",
       "      <td>0.363625</td>\n",
       "      <td>0.805833</td>\n",
       "      <td>0.160446</td>\n",
       "      <td>985</td>\n",
       "      <td>1</td>\n",
       "      <td>0</td>\n",
       "      <td>0</td>\n",
       "      <td>0</td>\n",
       "      <td>1</td>\n",
       "      <td>...</td>\n",
       "      <td>0</td>\n",
       "      <td>0</td>\n",
       "      <td>0</td>\n",
       "      <td>0</td>\n",
       "      <td>1</td>\n",
       "      <td>1</td>\n",
       "      <td>0</td>\n",
       "      <td>0</td>\n",
       "      <td>1</td>\n",
       "      <td>0</td>\n",
       "    </tr>\n",
       "    <tr>\n",
       "      <th>1</th>\n",
       "      <td>0.363478</td>\n",
       "      <td>0.353739</td>\n",
       "      <td>0.696087</td>\n",
       "      <td>0.248539</td>\n",
       "      <td>801</td>\n",
       "      <td>1</td>\n",
       "      <td>0</td>\n",
       "      <td>0</td>\n",
       "      <td>0</td>\n",
       "      <td>1</td>\n",
       "      <td>...</td>\n",
       "      <td>0</td>\n",
       "      <td>0</td>\n",
       "      <td>0</td>\n",
       "      <td>0</td>\n",
       "      <td>0</td>\n",
       "      <td>1</td>\n",
       "      <td>0</td>\n",
       "      <td>0</td>\n",
       "      <td>1</td>\n",
       "      <td>0</td>\n",
       "    </tr>\n",
       "    <tr>\n",
       "      <th>2</th>\n",
       "      <td>0.196364</td>\n",
       "      <td>0.189405</td>\n",
       "      <td>0.437273</td>\n",
       "      <td>0.248309</td>\n",
       "      <td>1349</td>\n",
       "      <td>1</td>\n",
       "      <td>0</td>\n",
       "      <td>0</td>\n",
       "      <td>0</td>\n",
       "      <td>1</td>\n",
       "      <td>...</td>\n",
       "      <td>0</td>\n",
       "      <td>0</td>\n",
       "      <td>0</td>\n",
       "      <td>0</td>\n",
       "      <td>0</td>\n",
       "      <td>0</td>\n",
       "      <td>1</td>\n",
       "      <td>1</td>\n",
       "      <td>0</td>\n",
       "      <td>0</td>\n",
       "    </tr>\n",
       "    <tr>\n",
       "      <th>3</th>\n",
       "      <td>0.200000</td>\n",
       "      <td>0.212122</td>\n",
       "      <td>0.590435</td>\n",
       "      <td>0.160296</td>\n",
       "      <td>1562</td>\n",
       "      <td>1</td>\n",
       "      <td>0</td>\n",
       "      <td>0</td>\n",
       "      <td>0</td>\n",
       "      <td>1</td>\n",
       "      <td>...</td>\n",
       "      <td>1</td>\n",
       "      <td>0</td>\n",
       "      <td>0</td>\n",
       "      <td>0</td>\n",
       "      <td>0</td>\n",
       "      <td>0</td>\n",
       "      <td>1</td>\n",
       "      <td>1</td>\n",
       "      <td>0</td>\n",
       "      <td>0</td>\n",
       "    </tr>\n",
       "    <tr>\n",
       "      <th>4</th>\n",
       "      <td>0.226957</td>\n",
       "      <td>0.229270</td>\n",
       "      <td>0.436957</td>\n",
       "      <td>0.186900</td>\n",
       "      <td>1600</td>\n",
       "      <td>1</td>\n",
       "      <td>0</td>\n",
       "      <td>0</td>\n",
       "      <td>0</td>\n",
       "      <td>1</td>\n",
       "      <td>...</td>\n",
       "      <td>0</td>\n",
       "      <td>1</td>\n",
       "      <td>0</td>\n",
       "      <td>0</td>\n",
       "      <td>0</td>\n",
       "      <td>0</td>\n",
       "      <td>1</td>\n",
       "      <td>1</td>\n",
       "      <td>0</td>\n",
       "      <td>0</td>\n",
       "    </tr>\n",
       "  </tbody>\n",
       "</table>\n",
       "<p>5 rows × 37 columns</p>\n",
       "</div>"
      ],
      "text/plain": [
       "   temperature  apparent_temperature  humidity  windspeed  count  season_1  \\\n",
       "0     0.344167              0.363625  0.805833   0.160446    985         1   \n",
       "1     0.363478              0.353739  0.696087   0.248539    801         1   \n",
       "2     0.196364              0.189405  0.437273   0.248309   1349         1   \n",
       "3     0.200000              0.212122  0.590435   0.160296   1562         1   \n",
       "4     0.226957              0.229270  0.436957   0.186900   1600         1   \n",
       "\n",
       "   season_2  season_3  season_4  year_0  ...  weekday_2  weekday_3  weekday_4  \\\n",
       "0         0         0         0       1  ...          0          0          0   \n",
       "1         0         0         0       1  ...          0          0          0   \n",
       "2         0         0         0       1  ...          0          0          0   \n",
       "3         0         0         0       1  ...          1          0          0   \n",
       "4         0         0         0       1  ...          0          1          0   \n",
       "\n",
       "   weekday_5  weekday_6  workingday_0  workingday_1  weather_situation_1  \\\n",
       "0          0          1             1             0                    0   \n",
       "1          0          0             1             0                    0   \n",
       "2          0          0             0             1                    1   \n",
       "3          0          0             0             1                    1   \n",
       "4          0          0             0             1                    1   \n",
       "\n",
       "   weather_situation_2  weather_situation_3  \n",
       "0                    1                    0  \n",
       "1                    1                    0  \n",
       "2                    0                    0  \n",
       "3                    0                    0  \n",
       "4                    0                    0  \n",
       "\n",
       "[5 rows x 37 columns]"
      ]
     },
     "execution_count": 32,
     "metadata": {},
     "output_type": "execute_result"
    }
   ],
   "source": [
    "data_sets[data_set_day].variants[variant_original].data_frame.head()"
   ]
  },
  {
   "cell_type": "code",
   "execution_count": 33,
   "metadata": {
    "pycharm": {
     "is_executing": false,
     "name": "#%%\n"
    }
   },
   "outputs": [],
   "source": [
    "# Iterate over data sets\n",
    "for data_set_name, data_set in data_sets.items():\n",
    "\n",
    "    # Iterate over variants\n",
    "    for variant_name, variant in data_set.variants.items():\n",
    "        \n",
    "        # Define columns\n",
    "        data_bike_x = variant.data_frame.drop([col_count], axis=1)\n",
    "        data_bike_y = variant.data_frame[[col_count]]\n",
    "        \n",
    "        n_splits = 5\n",
    "        test_size = 0.3\n",
    "        random_state = 0\n",
    "        \n",
    "        # Initialize KFold\n",
    "        kf = KFold(n_splits=n_splits, random_state=random_state)\n",
    "        \n",
    "        fold_index = 0\n",
    "        for train_index, test_index in kf.split(data_bike_x):\n",
    "        \n",
    "            x_train, x_test = data_bike_x.iloc[train_index], data_bike_x.iloc[test_index]\n",
    "            y_train, y_test = data_bike_y.iloc[train_index], data_bike_y.iloc[test_index]\n",
    "        \n",
    "            # Split training data and test data\n",
    "            # x_train, x_test, y_train, y_test = train_test_split(data_bike_day_x, data_bike_day_y, test_size=test_size, random_state=random_state)\n",
    "            \n",
    "            # Add splitted data \n",
    "            variant.folds[\"Fold \" + str(fold_index)] = DataSplit(x_train, x_test, y_train, y_test)  \n",
    "            \n",
    "            # Show splitted data\n",
    "            # print(\"data set\" + data_set_name + \" / variant \" + variant_name + \" / fold \"  + str(fold_index) + \" / \" + str(x_train.shape) + \", \" + str(x_test.shape) + \", \" + str(y_train.shape) + \", \" + str(y_test.shape))\n",
    "\n",
    "            fold_index += 1\n",
    "            "
   ]
  },
  {
   "cell_type": "markdown",
   "metadata": {
    "pycharm": {
     "name": "#%% md\n"
    }
   },
   "source": [
    "## 6 Initialize model"
   ]
  },
  {
   "cell_type": "code",
   "execution_count": 34,
   "metadata": {
    "pycharm": {
     "is_executing": false,
     "name": "#%%\n"
    }
   },
   "outputs": [],
   "source": [
    "# Put models into dictionary\n",
    "models = {\n",
    "    \"Linear Regression\": LinearRegression(),\n",
    "    # \"Decision Tree Regressor (25)\": DecisionTreeRegressor(min_samples_split=10, max_leaf_nodes=25),\n",
    "    # \"Decision Tree Regressor (50)\": DecisionTreeRegressor(min_samples_split=10, max_leaf_nodes=50),\n",
    "    # \"Decision Tree Regressor (100)\": DecisionTreeRegressor(min_samples_split=10, max_leaf_nodes=100),\n",
    "    \"Decision Tree Regressor (200)\": DecisionTreeRegressor(min_samples_split=10, max_leaf_nodes=200),\n",
    "    # \"Random Forest Regressor (25)\": RandomForestRegressor(n_estimators=25),\n",
    "    # \"Random Forest Regressor (50)\": RandomForestRegressor(n_estimators=50),\n",
    "    # \"Random Forest Regressor (100)\": RandomForestRegressor(n_estimators=100),\n",
    "    \"Random Forest Regressor (200)\": RandomForestRegressor(n_estimators=200),\n",
    "    # \"Lasso (0.2)\": Lasso(alpha=0.2),\n",
    "    # \"Lasso (0.4)\": Lasso(alpha=0.4),\n",
    "    # \"Lasso (0.6)\": Lasso(alpha=0.6),\n",
    "    # \"Lasso (0.8)\": Lasso(alpha=0.8),\n",
    "    \"Lasso (1.0)\": Lasso(alpha=1.0),\n",
    "    \"Elastic Net (0.2)\": ElasticNet(alpha=0.2, random_state=0),\n",
    "    \"Elastic Net (0.4)\": ElasticNet(alpha=0.4, random_state=0),\n",
    "    \"Elastic Net (0.6)\": ElasticNet(alpha=0.6, random_state=0),\n",
    "    \"Elastic Net (0.8)\": ElasticNet(alpha=0.8, random_state=0),\n",
    "    \"Elastic Net (1.0)\": ElasticNet(alpha=1.0, random_state=0),\n",
    "    # \"Ridge (0.2)\": Ridge(alpha=0.2),\n",
    "    # \"Ridge (0.4)\": Ridge(alpha=0.4),\n",
    "    # \"Ridge (0.6)\": Ridge(alpha=0.6),\n",
    "    # \"Ridge (0.8)\": Ridge(alpha=0.8),\n",
    "    \"Ridge (1.0)\": Ridge(alpha=1.0),\n",
    "    \"Support Vector Regression (linear)\": SVR(kernel='linear', gamma='scale', C=1.0, epsilon=0.2),\n",
    "    \"Support Vector Regression (rbf)\": SVR(kernel='rbf', gamma='scale', C=1.0, epsilon=0.2),\n",
    "    \"Support Vector Regression (poly)\": SVR(kernel='poly', gamma='scale', C=1.0, epsilon=0.2),\n",
    "    \"Support Vector Regression (sigmoid)\": SVR(kernel='sigmoid', gamma='scale', C=1.0, epsilon=0.2),\n",
    "}"
   ]
  },
  {
   "cell_type": "code",
   "execution_count": 35,
   "metadata": {
    "pycharm": {
     "is_executing": false,
     "name": "#%% \n"
    }
   },
   "outputs": [],
   "source": [
    "# Iterate over data sets\n",
    "for data_set_name, data_set in data_sets.items():\n",
    "    \n",
    "    # Iterate over variants\n",
    "    for variant_name, variant in data_set.variants.items():\n",
    "    \n",
    "        # Iterate over models\n",
    "        for model_name, model in models.items():\n",
    "            \n",
    "            # Attach model to variant\n",
    "            variant.models[model_name] = model"
   ]
  },
  {
   "cell_type": "markdown",
   "metadata": {},
   "source": [
    "## 7 Train and evaluate model"
   ]
  },
  {
   "cell_type": "code",
   "execution_count": 38,
   "metadata": {
    "pycharm": {
     "is_executing": false,
     "name": "#%%\n"
    }
   },
   "outputs": [],
   "source": [
    "def trainAndEvaluateDataSet(data_set_name, data_set):\n",
    "    \"\"\"Trains and evaluates a given data set\"\"\"\n",
    "    \n",
    "    variant_index = 0\n",
    "    y_pos = np.arange(len(models.keys()))\n",
    "    handles = []\n",
    "    \n",
    "    plt.figure(figsize=(10,10))\n",
    "\n",
    "    # Iterate over variants\n",
    "    for variant_name, variant in data_set.variants.items():\n",
    "        \n",
    "        print(variant_name)\n",
    "        \n",
    "        model_index = 0\n",
    "        metric_r2_score_list = []\n",
    "        \n",
    "        # Iterate over models in variant \n",
    "        for model_name, model in variant.models.items():\n",
    "                        \n",
    "            start = time.time()\n",
    "            \n",
    "            # Initialize metric\n",
    "            metric_explained_variance_score = 0\n",
    "            metric_max_error = 0\n",
    "            metric_mean_absolute_error = 0\n",
    "            metric_mean_squared_error = 0\n",
    "            metric_median_absolute_error = 0\n",
    "            metric_r2_score = 0\n",
    "            \n",
    "            for fold_name, fold in variant.folds.items():\n",
    "            \n",
    "                # Fit model and create prediction\n",
    "                model.fit(fold.x_train, fold.y_train)\n",
    "                \n",
    "                # Make prediction\n",
    "                predicted_values = model.predict(fold.x_test)\n",
    "                expected_values = fold.y_test\n",
    "                \n",
    "                # Calculate scores\n",
    "                metric_explained_variance_score += explained_variance_score(expected_values, predicted_values)\n",
    "                metric_max_error += max_error(expected_values, predicted_values)\n",
    "                metric_mean_absolute_error += mean_absolute_error(expected_values, predicted_values)\n",
    "                metric_mean_squared_error += mean_squared_error(expected_values, predicted_values)\n",
    "                metric_median_absolute_error += median_absolute_error(expected_values, predicted_values)\n",
    "                metric_r2_score += r2_score(expected_values, predicted_values)\n",
    "                \n",
    "                # print(\"explained variance score\", round(metric_explained_variance_score, 2))\n",
    "                # print(\"               max error\", round(metric_max_error, 2))\n",
    "                # print(\"     mean absolute error\", round(metric_mean_absolute_error, 2))\n",
    "                # print(\"      mean squared error\", round(metric_mean_squared_error, 2))\n",
    "                # print(\"   median absolute error\", round(metric_median_absolute_error, 2))\n",
    "                # print(\"                r2 score\", round(metric_r2_score, 2))\n",
    "            \n",
    "            fold_count = len(variant.folds.items())\n",
    "            \n",
    "            # Divide scores by number of folds\n",
    "            metric_explained_variance_score /= fold_count\n",
    "            metric_max_error /= fold_count\n",
    "            metric_mean_absolute_error /= fold_count\n",
    "            metric_mean_squared_error /= fold_count\n",
    "            metric_median_absolute_error /= fold_count\n",
    "            metric_r2_score /= fold_count\n",
    "            \n",
    "            end = time.time()\n",
    "            print(\"  (\" + str(round(end-start, 2)) + \"s)\\t\" + model_name + \" > \" + str(round(metric_r2_score, 2)))\n",
    "\n",
    "            metric_r2_score_list.insert(model_index, metric_r2_score)\n",
    "            model_index += 1\n",
    "            \n",
    "        print(\"\")\n",
    "        \n",
    "        handle = plt.barh(y_pos + (0.8 * variant_index / len(data_set.variants)), metric_r2_score_list, 0.8 * 1/len(data_set.variants), align='center', alpha=0.5, color=variant.color, label=variant_name)\n",
    "        handles.insert(variant_index, handle)\n",
    "        variant_index += 1\n",
    "    \n",
    "    plt.xlabel('R2 Score')\n",
    "    plt.yticks(y_pos, models.keys())\n",
    "    plt.title('Model performance')\n",
    "    plt.legend(handles=handles)\n",
    "    plt.show()\n",
    "    "
   ]
  },
  {
   "cell_type": "markdown",
   "metadata": {
    "pycharm": {
     "name": "#%% md\n"
    }
   },
   "source": [
    "### 7.1 Data Set _day_"
   ]
  },
  {
   "cell_type": "code",
   "execution_count": null,
   "metadata": {
    "pycharm": {
     "is_executing": false,
     "name": "#%%\n"
    }
   },
   "outputs": [
    {
     "name": "stdout",
     "output_type": "stream",
     "text": [
      "original\n",
      "  (0.21s)\tLinear Regression > 0.54\n",
      "  (0.56s)\tDecision Tree Regressor (200) > 0.58\n",
      "  (88.13s)\tRandom Forest Regressor (200) > 0.79\n",
      "  (0.22s)\tLasso (1.0) > 0.57\n",
      "  (0.18s)\tElastic Net (0.2) > 0.37\n",
      "  (0.17s)\tElastic Net (0.4) > 0.21\n",
      "  (0.18s)\tElastic Net (0.6) > 0.12\n",
      "  (0.15s)\tElastic Net (0.8) > 0.06\n",
      "  (0.17s)\tElastic Net (1.0) > 0.01\n",
      "  (0.14s)\tRidge (1.0) > 0.54\n",
      "  (79.23s)\tSupport Vector Regression (linear) > 0.55\n",
      "  (110.33s)\tSupport Vector Regression (rbf) > 0.26\n",
      "  (84.48s)\tSupport Vector Regression (poly) > 0.38\n",
      "  (100.18s)\tSupport Vector Regression (sigmoid) > 0.29\n",
      "\n",
      "market\n",
      "  (0.2s)\tLinear Regression > 0.54\n",
      "  (0.57s)\tDecision Tree Regressor (200) > 0.58\n",
      "  (89.54s)\tRandom Forest Regressor (200) > 0.79\n",
      "  (0.2s)\tLasso (1.0) > 0.57\n",
      "  (0.18s)\tElastic Net (0.2) > 0.37\n",
      "  (0.17s)\tElastic Net (0.4) > 0.21\n",
      "  (0.16s)\tElastic Net (0.6) > 0.12\n",
      "  (0.16s)\tElastic Net (0.8) > 0.06\n",
      "  (0.15s)\tElastic Net (1.0) > 0.01\n",
      "  (0.11s)\tRidge (1.0) > 0.54\n",
      "  (85.4s)\tSupport Vector Regression (linear) > 0.55\n",
      "  (111.71s)\tSupport Vector Regression (rbf) > 0.26\n",
      "  (92.81s)\tSupport Vector Regression (poly) > 0.38\n",
      "  (101.93s)\tSupport Vector Regression (sigmoid) > 0.29\n",
      "\n",
      "history\n",
      "  (0.15s)\tLinear Regression > 0.54\n",
      "  (0.53s)\tDecision Tree Regressor (200) > 0.58\n",
      "  (91.04s)\tRandom Forest Regressor (200) > 0.79\n",
      "  (0.21s)\tLasso (1.0) > 0.57\n",
      "  (0.19s)\tElastic Net (0.2) > 0.37\n",
      "  (0.17s)\tElastic Net (0.4) > 0.21\n",
      "  (0.17s)\tElastic Net (0.6) > 0.12\n",
      "  (0.16s)\tElastic Net (0.8) > 0.06\n",
      "  (0.15s)\tElastic Net (1.0) > 0.01\n",
      "  (0.1s)\tRidge (1.0) > 0.54\n",
      "  (83.43s)\tSupport Vector Regression (linear) > 0.55\n",
      "  (109.72s)\tSupport Vector Regression (rbf) > 0.26\n",
      "  (89.15s)\tSupport Vector Regression (poly) > 0.38\n"
     ]
    }
   ],
   "source": [
    "# Train and evaluate data set 'day'\n",
    "trainAndEvaluateDataSet(data_set_day, data_sets[data_set_day])   "
   ]
  },
  {
   "cell_type": "markdown",
   "metadata": {},
   "source": [
    "### 7.2 Data Set _hour_"
   ]
  },
  {
   "cell_type": "code",
   "execution_count": null,
   "metadata": {
    "pycharm": {
     "is_executing": false,
     "name": "#%%\n"
    }
   },
   "outputs": [],
   "source": [
    "# Train and evaluate data set 'hour'\n",
    "trainAndEvaluateDataSet(data_set_hour, data_sets[data_set_hour])"
   ]
  },
  {
   "cell_type": "markdown",
   "metadata": {},
   "source": [
    "## 8 Conclusion\n",
    "\n",
    "### 3.1 Hypothesis A\n",
    "\n",
    "### 3.2 Hypothesis B\n",
    "\n",
    "### 3.3 Hypothesis C"
   ]
  }
 ],
 "metadata": {
  "kernelspec": {
   "display_name": "Python 3",
   "language": "python",
   "name": "python3"
  },
  "language_info": {
   "codemirror_mode": {
    "name": "ipython",
    "version": 3
   },
   "file_extension": ".py",
   "mimetype": "text/x-python",
   "name": "python",
   "nbconvert_exporter": "python",
   "pygments_lexer": "ipython3",
   "version": "3.7.3"
  },
  "pycharm": {
   "stem_cell": {
    "cell_type": "raw",
    "metadata": {
     "collapsed": false
    },
    "source": []
   }
  }
 },
 "nbformat": 4,
 "nbformat_minor": 1
}
